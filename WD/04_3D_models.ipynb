{
 "cells": [
  {
   "cell_type": "code",
   "execution_count": 2,
   "metadata": {},
   "outputs": [],
   "source": [
    "from basic_utils import *\n",
    "import numpy as np\n",
    "\n",
    "import matplotlib as mpl\n",
    "import matplotlib.pyplot as plt\n",
    "import seaborn as sns\n",
    "sns.set_style('whitegrid')\n",
    "%matplotlib inline\n",
    "\n",
    "from copy import deepcopy as copy\n",
    "import cooler"
   ]
  },
  {
   "cell_type": "code",
   "execution_count": 4,
   "metadata": {},
   "outputs": [],
   "source": [
    "experiment_ids = \"A9 B15 B19 B26 B3 B31 sc19 sc29 A2 A3 A5 A6 A8 B16 B6 sc1 sc16 sc21 sc23 sc24\".split()\n",
    "labels = copy(experiment_ids)\n",
    "colors = 'RED     MAGENTA BROWN   ORANGE  GREEN   DARKGRAY        DARKBLUE        LIGHTBLUE       LIGHTGRAY'.split()\n",
    "chrms = ['chr2L', 'chr3L', 'chr2R', 'chr3R', 'chrX']\n",
    "resolution = 10"
   ]
  },
  {
   "cell_type": "markdown",
   "metadata": {},
   "source": [
    "## Models colors"
   ]
  },
  {
   "cell_type": "code",
   "execution_count": 5,
   "metadata": {},
   "outputs": [],
   "source": [
    "# Writing chromatin colors for models colouring\n",
    "\n",
    "df_colors = pd.read_csv(\"/home/agalicina/GENOMES/DM3_ANNOT/COLORS/9STATE_BG3_10K.binned\", sep='\\t')\n",
    "df_colors.columns = \"Chr     Bin     RED     MAGENTA BROWN   ORANGE  GREEN   DARKGRAY        DARKBLUE        LIGHTBLUE       LIGHTGRAY\".split()\n",
    "df_colors.loc[:, \"bin\"] = df_colors.Bin//10000\n",
    "\n",
    "df_colors.loc[:, 'ch'] = df_colors.Chr\n",
    "\n",
    "\n",
    "selected = 0.5\n",
    "\n",
    "df_colors.loc[:,'polycomb'] = df_colors.apply(lambda x: x.DARKGRAY>selected, axis=1)\n",
    "df_colors.loc[:,'inactive'] = df_colors.apply(lambda x: x.LIGHTGRAY>selected, axis=1)\n",
    "df_colors.loc[:,'active']   = df_colors.apply(lambda x: x.RED+x.MAGENTA>selected, axis=1)\n",
    "\n",
    "df_colors.loc[:, 'state'] = df_colors.apply(\n",
    "    lambda x: 'active' if x.active else 'inactive' if x.inactive else 'polycomb' if x.polycomb else 'neutral', axis=1)\n",
    "\n",
    "for ch in chrms:\n",
    "    df_colors.loc[:,['ch', 'bin', 'state']].query(\"ch=='{}'\".format(ch))\\\n",
    "    .to_csv(\"../DATA/ANNOT/colors_bybin_{}.tsv\".format(ch), index=False, sep='\\t')"
   ]
  },
  {
   "cell_type": "code",
   "execution_count": 7,
   "metadata": {},
   "outputs": [],
   "source": [
    "df_colors = pd.read_csv(\"../DATA/TMP/TADs_annotated.csv\")\n",
    "\n",
    "selected = 0.5\n",
    "\n",
    "df_colors.loc[:,'polycomb'] = df_colors.apply(lambda x: x.DARKGRAY>selected, axis=1)\n",
    "df_colors.loc[:,'inactive'] = df_colors.apply(lambda x: x.LIGHTGRAY>selected, axis=1)\n",
    "df_colors.loc[:,'active']   = df_colors.apply(lambda x: x.RED+x.MAGENTA>selected, axis=1)\n",
    "\n",
    "df_colors.loc[:, 'state'] = df_colors.apply(\n",
    "    lambda x: 'active' if x.active else 'inactive' if x.inactive else 'polycomb' if x.polycomb else 'neutral', axis=1)\n",
    "\n",
    "chr_sizes = pd.read_csv(\"../DATA/GENOME/chrom.sizes_t\", sep='\\t', header=None)\n",
    "chr_sizes.columns = ['ch', 'len']\n",
    "chr_sizes.loc[:, 'bin_len'] = chr_sizes.len/resolution//1000\n",
    "\n",
    "\n",
    "\n",
    "df_colors1 = pd.DataFrame(columns=['ch', 'bin', 'state', 'ntad'])\n",
    "\n",
    "for ch in chrms:\n",
    "    df_colors_tmp = df_colors.query('ch==\"{}\"'.format(ch)).reset_index(drop=True)\n",
    "    j_prev = 0\n",
    "    for i, r in df_colors_tmp.iterrows():\n",
    "        \n",
    "        for j in np.arange(j_prev, r.bgn, 1):\n",
    "            df_colors1 = df_colors1.append({'ch':r.ch, 'bin':j, 'state':'neutral', 'ntad':'.'}, ignore_index=True)\n",
    "            \n",
    "        for j in np.arange(r.bgn, r.end, 1):\n",
    "            df_colors1 = df_colors1.append({'ch':r.ch, 'bin':j, 'state':r.state, 'ntad':i}, ignore_index=True)\n",
    "            \n",
    "        j_prev = r.end\n",
    "        \n",
    "    for j in np.arange(j_prev, chr_sizes.query('ch==\"{}\"'.format(ch)).loc[:,'bin_len'].values[0], 1):\n",
    "        df_colors1 = df_colors1.append({'ch':r.ch, 'bin':int(j), 'state':'neutral', 'ntad':'.'}, ignore_index=True)\n",
    "\n",
    "for ch in chrms:\n",
    "    df_colors1.loc[:,['ch', 'bin', 'state', 'ntad']].query(\"ch=='{}'\".format(ch))\\\n",
    "    .to_csv(\"../DATA/ANNOT/colors_bytad_{}.tsv\".format(ch), index=False, sep='\\t')"
   ]
  },
  {
   "cell_type": "markdown",
   "metadata": {},
   "source": [
    "## PyMol scripts \n",
    "In this section PyMol scripts are created. Note that they should be executed from PyMol environment. \n",
    "\n",
    "### Visualization of TADs"
   ]
  },
  {
   "cell_type": "code",
   "execution_count": null,
   "metadata": {},
   "outputs": [],
   "source": []
  },
  {
   "cell_type": "markdown",
   "metadata": {},
   "source": [
    "### FISH probes"
   ]
  },
  {
   "cell_type": "code",
   "execution_count": null,
   "metadata": {},
   "outputs": [],
   "source": []
  },
  {
   "cell_type": "markdown",
   "metadata": {},
   "source": [
    "### Radial distance calculation"
   ]
  },
  {
   "cell_type": "code",
   "execution_count": null,
   "metadata": {},
   "outputs": [],
   "source": [
    "# in pymol: run /Users/agalicina/2018/MODELLING/pymol_distX_script.py\n",
    "\n",
    "from pymol import cmd\n",
    "import glob\n",
    "\n",
    "cmd.do('''\n",
    "bg_color white\n",
    "set transparency, 0.8\n",
    "set solvent_radius, 0.025\n",
    "set surface_quality, 1\n",
    "set surface_color, gray\n",
    "set sphere_scale, 0.1\n",
    "''')\n",
    "\n",
    "\n",
    "outfile = \"/Users/agalicina/2018/MODELLING/distX_info.txt\"\n",
    "with open(outfile, 'w') as outf:\n",
    "        for file in glob.glob(\"/Users/agalicina/2018/MODELLING/chrx_mol2/*/*\")+glob.glob(\"/Users/agalicina/2018/MODELLING/MODELS_SH/*/*\"):\n",
    "                cmd.do('''\n",
    "                load {}, tmp\n",
    "                set_bond stick_radius, 0.05, tmp\n",
    "                hide everything, tmp\n",
    "                show surface, tmp\n",
    "                color gray40, tmp\n",
    "                hide surface\n",
    "                show sticks, tmp\n",
    "                set stick_transparency, 0.8, (tmp)\n",
    "                disable tmp\n",
    "                pseudoatom com, (tmp)\n",
    "                '''.format(file))\n",
    "\n",
    "                for i in range(1, 2243):  # in total: 2242 at X chromosome\n",
    "\n",
    "                        measurement = cmd.distance(\"(com)\", \"(idx {} and tmp)\".format(i))\n",
    "                        towrite = [i, measurement, file]\n",
    "                        towrite = str(\"\\t\".join([\"{}\"]*len(towrite))+\"\\n\").format(*towrite)\n",
    "                        outf.write(towrite)\n",
    "\n",
    "                cmd.do(\"delete all\")"
   ]
  },
  {
   "cell_type": "code",
   "execution_count": null,
   "metadata": {},
   "outputs": [],
   "source": []
  },
  {
   "cell_type": "code",
   "execution_count": 19,
   "metadata": {},
   "outputs": [],
   "source": [
    "df1 = pd.read_csv(\"../DATA_MODEL/TMP/distX_info.txt\", sep='\\t', header=None)\n",
    "df1.columns = ['idx', 'dist', 'file']\n",
    "df1.loc[:, 'bin'] = df1.idx-1\n",
    "df1.loc[:, 'ch'] = 'chrX'\n",
    "\n",
    "df2 = pd.read_csv(\"../DATA/ANNOT/colors_bybin_chrX.tsv\".format(ch), sep='\\t')\n",
    "\n",
    "df = pd.merge(df1, df2, on=['ch', 'bin'])"
   ]
  },
  {
   "cell_type": "code",
   "execution_count": 63,
   "metadata": {},
   "outputs": [
    {
     "data": {
      "image/png": "[encoded data removed]",
      "text/plain": [
       "<Figure size 504x504 with 1 Axes>"
      ]
     },
     "metadata": {},
     "output_type": "display_data"
    }
   ],
   "source": [
    "plt.figure(figsize=[7,7])\n",
    "sns.boxplot( data=df, x=\"state\", y=\"dist\" ) \n",
    "\n",
    "for k1 in np.arange(4):\n",
    "    for k2 in np.arange(k1+1, 4):\n",
    "        label1 = plt.xticks()[1][k1].get_text()\n",
    "        label2 = plt.xticks()[1][k2].get_text()\n",
    "        \n",
    "        v1, v2 = df.query(\"state=='{}'\".format(label1))['dist'].values, df.query(\"state=='{}'\".format(label2))['dist'].values\n",
    "        pv = scipy.stats.mannwhitneyu(v1, v2).pvalue\n",
    "        \n",
    "        if pv>0.05:\n",
    "            continue\n",
    "        if pv>0.01:\n",
    "            s = '*{:.0e}'.format(pv)\n",
    "        else:\n",
    "            s = '**{:.0e}'.format(pv)\n",
    "        y, h = df['dist'].max() - 0.5*(k2-k1) + k1, 0.2\n",
    "        plt.plot([k1, k1, k2, k2], [y, y+h, y+h, y], lw=1.5, c='k')\n",
    "        plt.text((k1+k2)*0.5, y+h, s, ha='center', va='bottom', color='k')\n",
    "        \n",
    "    plt.savefig('../IMG/MODEL/Spatial_distance.pdf')"
   ]
  },
  {
   "cell_type": "code",
   "execution_count": 17,
   "metadata": {},
   "outputs": [],
   "source": []
  },
  {
   "cell_type": "code",
   "execution_count": null,
   "metadata": {},
   "outputs": [],
   "source": []
  }
 ],
 "metadata": {
  "kernelspec": {
   "display_name": "Python (distiller-editable)",
   "language": "python",
   "name": "distiller-editable"
  },
  "language_info": {
   "codemirror_mode": {
    "name": "ipython",
    "version": 3
   },
   "file_extension": ".py",
   "mimetype": "text/x-python",
   "name": "python",
   "nbconvert_exporter": "python",
   "pygments_lexer": "ipython3",
   "version": "3.6.5"
  }
 },
 "nbformat": 4,
 "nbformat_minor": 2
}
